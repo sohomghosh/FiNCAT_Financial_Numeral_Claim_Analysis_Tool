{
  "nbformat": 4,
  "nbformat_minor": 0,
  "metadata": {
    "colab": {
      "name": "FiNCAT_training.ipynb",
      "provenance": [],
      "collapsed_sections": []
    },
    "kernelspec": {
      "name": "python3",
      "display_name": "Python 3"
    },
    "language_info": {
      "name": "python"
    }
  },
  "cells": [
    {
      "cell_type": "code",
      "execution_count": null,
      "metadata": {
        "id": "GTioR3dl3NXj"
      },
      "outputs": [],
      "source": [
        "!pip install transformers"
      ]
    },
    {
      "cell_type": "code",
      "source": [
        "import nltk\n",
        "nltk.download('punkt')"
      ],
      "metadata": {
        "id": "yePyGZLH3dRb"
      },
      "execution_count": null,
      "outputs": []
    },
    {
      "cell_type": "code",
      "source": [
        "from sklearn.linear_model import LogisticRegression"
      ],
      "metadata": {
        "id": "5KWtWKlNRC6e"
      },
      "execution_count": 39,
      "outputs": []
    },
    {
      "cell_type": "code",
      "source": [
        "from sklearn.metrics import f1_score, classification_report, confusion_matrix"
      ],
      "metadata": {
        "id": "LpuG0yQDQ0A6"
      },
      "execution_count": 38,
      "outputs": []
    },
    {
      "cell_type": "code",
      "source": [
        "import pickle"
      ],
      "metadata": {
        "id": "X92lJbx-Sj9n"
      },
      "execution_count": 46,
      "outputs": []
    },
    {
      "cell_type": "code",
      "source": [
        "import pandas as pd\n",
        "import numpy as np"
      ],
      "metadata": {
        "id": "0ZnKT0DS3j8x"
      },
      "execution_count": 3,
      "outputs": []
    },
    {
      "cell_type": "markdown",
      "source": [
        "# Embedding creation"
      ],
      "metadata": {
        "id": "fUHJa6mmPtB-"
      }
    },
    {
      "cell_type": "code",
      "source": [
        "from fincat_utils import extract_context_words"
      ],
      "metadata": {
        "id": "iRf8whqO3rTo"
      },
      "execution_count": 22,
      "outputs": []
    },
    {
      "cell_type": "code",
      "source": [
        "from fincat_utils import bert_embedding_extract"
      ],
      "metadata": {
        "id": "VXG2KHBo3zGA"
      },
      "execution_count": 23,
      "outputs": []
    },
    {
      "cell_type": "code",
      "source": [
        "# These datasets have been acquired from https://sites.google.com/nlg.csie.ntu.edu.tw/finnum3/data\n",
        "train = pd.read_csv('FinNum-3_ConCall_train.csv')\n",
        "valid = pd.read_csv('FinNum-3_ConCall_dev.csv')\n",
        "train.head()"
      ],
      "metadata": {
        "colab": {
          "base_uri": "https://localhost:8080/",
          "height": 563
        },
        "id": "wKwh27e24D-e",
        "outputId": "2af68d80-7b98-495f-d9fb-f7987719efba"
      },
      "execution_count": 8,
      "outputs": [
        {
          "output_type": "execute_result",
          "data": {
            "text/html": [
              "\n",
              "  <div id=\"df-4b56958e-7772-49e6-8022-93d3da15501e\">\n",
              "    <div class=\"colab-df-container\">\n",
              "      <div>\n",
              "<style scoped>\n",
              "    .dataframe tbody tr th:only-of-type {\n",
              "        vertical-align: middle;\n",
              "    }\n",
              "\n",
              "    .dataframe tbody tr th {\n",
              "        vertical-align: top;\n",
              "    }\n",
              "\n",
              "    .dataframe thead th {\n",
              "        text-align: right;\n",
              "    }\n",
              "</style>\n",
              "<table border=\"1\" class=\"dataframe\">\n",
              "  <thead>\n",
              "    <tr style=\"text-align: right;\">\n",
              "      <th></th>\n",
              "      <th>paragraph</th>\n",
              "      <th>target_num</th>\n",
              "      <th>category</th>\n",
              "      <th>offset_start</th>\n",
              "      <th>offset_end</th>\n",
              "      <th>claim</th>\n",
              "    </tr>\n",
              "  </thead>\n",
              "  <tbody>\n",
              "    <tr>\n",
              "      <th>0</th>\n",
              "      <td>Good day and welcome to the Apple Inc. Third Q...</td>\n",
              "      <td>2018.0</td>\n",
              "      <td>date</td>\n",
              "      <td>65</td>\n",
              "      <td>69</td>\n",
              "      <td>0</td>\n",
              "    </tr>\n",
              "    <tr>\n",
              "      <th>1</th>\n",
              "      <td>Please note that some of the information you'l...</td>\n",
              "      <td>10.0</td>\n",
              "      <td>other</td>\n",
              "      <td>504</td>\n",
              "      <td>506</td>\n",
              "      <td>0</td>\n",
              "    </tr>\n",
              "    <tr>\n",
              "      <th>2</th>\n",
              "      <td>Please note that some of the information you'l...</td>\n",
              "      <td>8.0</td>\n",
              "      <td>other</td>\n",
              "      <td>536</td>\n",
              "      <td>537</td>\n",
              "      <td>0</td>\n",
              "    </tr>\n",
              "    <tr>\n",
              "      <th>3</th>\n",
              "      <td>Thank you Nancy and thanks to everyone for joi...</td>\n",
              "      <td>53.3</td>\n",
              "      <td>money</td>\n",
              "      <td>212</td>\n",
              "      <td>216</td>\n",
              "      <td>0</td>\n",
              "    </tr>\n",
              "    <tr>\n",
              "      <th>4</th>\n",
              "      <td>Thank you Nancy and thanks to everyone for joi...</td>\n",
              "      <td>3.0</td>\n",
              "      <td>date</td>\n",
              "      <td>243</td>\n",
              "      <td>244</td>\n",
              "      <td>0</td>\n",
              "    </tr>\n",
              "  </tbody>\n",
              "</table>\n",
              "</div>\n",
              "      <button class=\"colab-df-convert\" onclick=\"convertToInteractive('df-4b56958e-7772-49e6-8022-93d3da15501e')\"\n",
              "              title=\"Convert this dataframe to an interactive table.\"\n",
              "              style=\"display:none;\">\n",
              "        \n",
              "  <svg xmlns=\"http://www.w3.org/2000/svg\" height=\"24px\"viewBox=\"0 0 24 24\"\n",
              "       width=\"24px\">\n",
              "    <path d=\"M0 0h24v24H0V0z\" fill=\"none\"/>\n",
              "    <path d=\"M18.56 5.44l.94 2.06.94-2.06 2.06-.94-2.06-.94-.94-2.06-.94 2.06-2.06.94zm-11 1L8.5 8.5l.94-2.06 2.06-.94-2.06-.94L8.5 2.5l-.94 2.06-2.06.94zm10 10l.94 2.06.94-2.06 2.06-.94-2.06-.94-.94-2.06-.94 2.06-2.06.94z\"/><path d=\"M17.41 7.96l-1.37-1.37c-.4-.4-.92-.59-1.43-.59-.52 0-1.04.2-1.43.59L10.3 9.45l-7.72 7.72c-.78.78-.78 2.05 0 2.83L4 21.41c.39.39.9.59 1.41.59.51 0 1.02-.2 1.41-.59l7.78-7.78 2.81-2.81c.8-.78.8-2.07 0-2.86zM5.41 20L4 18.59l7.72-7.72 1.47 1.35L5.41 20z\"/>\n",
              "  </svg>\n",
              "      </button>\n",
              "      \n",
              "  <style>\n",
              "    .colab-df-container {\n",
              "      display:flex;\n",
              "      flex-wrap:wrap;\n",
              "      gap: 12px;\n",
              "    }\n",
              "\n",
              "    .colab-df-convert {\n",
              "      background-color: #E8F0FE;\n",
              "      border: none;\n",
              "      border-radius: 50%;\n",
              "      cursor: pointer;\n",
              "      display: none;\n",
              "      fill: #1967D2;\n",
              "      height: 32px;\n",
              "      padding: 0 0 0 0;\n",
              "      width: 32px;\n",
              "    }\n",
              "\n",
              "    .colab-df-convert:hover {\n",
              "      background-color: #E2EBFA;\n",
              "      box-shadow: 0px 1px 2px rgba(60, 64, 67, 0.3), 0px 1px 3px 1px rgba(60, 64, 67, 0.15);\n",
              "      fill: #174EA6;\n",
              "    }\n",
              "\n",
              "    [theme=dark] .colab-df-convert {\n",
              "      background-color: #3B4455;\n",
              "      fill: #D2E3FC;\n",
              "    }\n",
              "\n",
              "    [theme=dark] .colab-df-convert:hover {\n",
              "      background-color: #434B5C;\n",
              "      box-shadow: 0px 1px 3px 1px rgba(0, 0, 0, 0.15);\n",
              "      filter: drop-shadow(0px 1px 2px rgba(0, 0, 0, 0.3));\n",
              "      fill: #FFFFFF;\n",
              "    }\n",
              "  </style>\n",
              "\n",
              "      <script>\n",
              "        const buttonEl =\n",
              "          document.querySelector('#df-4b56958e-7772-49e6-8022-93d3da15501e button.colab-df-convert');\n",
              "        buttonEl.style.display =\n",
              "          google.colab.kernel.accessAllowed ? 'block' : 'none';\n",
              "\n",
              "        async function convertToInteractive(key) {\n",
              "          const element = document.querySelector('#df-4b56958e-7772-49e6-8022-93d3da15501e');\n",
              "          const dataTable =\n",
              "            await google.colab.kernel.invokeFunction('convertToInteractive',\n",
              "                                                     [key], {});\n",
              "          if (!dataTable) return;\n",
              "\n",
              "          const docLinkHtml = 'Like what you see? Visit the ' +\n",
              "            '<a target=\"_blank\" href=https://colab.research.google.com/notebooks/data_table.ipynb>data table notebook</a>'\n",
              "            + ' to learn more about interactive tables.';\n",
              "          element.innerHTML = '';\n",
              "          dataTable['output_type'] = 'display_data';\n",
              "          await google.colab.output.renderOutput(dataTable, element);\n",
              "          const docLink = document.createElement('div');\n",
              "          docLink.innerHTML = docLinkHtml;\n",
              "          element.appendChild(docLink);\n",
              "        }\n",
              "      </script>\n",
              "    </div>\n",
              "  </div>\n",
              "  "
            ],
            "text/plain": [
              "                                           paragraph  ...  claim\n",
              "0  Good day and welcome to the Apple Inc. Third Q...  ...      0\n",
              "1  Please note that some of the information you'l...  ...      0\n",
              "2  Please note that some of the information you'l...  ...      0\n",
              "3  Thank you Nancy and thanks to everyone for joi...  ...      0\n",
              "4  Thank you Nancy and thanks to everyone for joi...  ...      0\n",
              "\n",
              "[5 rows x 6 columns]"
            ]
          },
          "metadata": {},
          "execution_count": 8
        }
      ]
    },
    {
      "cell_type": "code",
      "source": [
        "train['context_text'] = train.apply(lambda x : extract_context_words(x), axis = 1)\n",
        "valid['context_text'] = valid.apply(lambda x : extract_context_words(x), axis = 1)"
      ],
      "metadata": {
        "id": "_Szqrb9V4IDp"
      },
      "execution_count": 9,
      "outputs": []
    },
    {
      "cell_type": "code",
      "source": [
        "train['context_text'].head()"
      ],
      "metadata": {
        "colab": {
          "base_uri": "https://localhost:8080/"
        },
        "id": "wLnSUXNy4MAU",
        "outputId": "7f3742ca-0eef-4b21-a6e2-328a53a1d9c8"
      },
      "execution_count": 10,
      "outputs": [
        {
          "output_type": "execute_result",
          "data": {
            "text/plain": [
              "0    Apple Inc. Third Quarter Fiscal Year 2018 Earn...\n",
              "1    recently filed periodic reports on Form 10-K a...\n",
              "2    and Form 10-Q and the Form 8-K filed with the ...\n",
              "3    Services and Wearables . We generated $53.3 bi...\n",
              "4    53.3 billion in revenue a new Q3 record . That...\n",
              "Name: context_text, dtype: object"
            ]
          },
          "metadata": {},
          "execution_count": 10
        }
      ]
    },
    {
      "cell_type": "code",
      "source": [
        "def full_word_extract(x):\n",
        "  paragraph, offset_start, offset_end = x['paragraph'], x['offset_start'], x['offset_end']\n",
        "  paragraph = ' ' + paragraph + ' '\n",
        "  offset_start = offset_start + 1\n",
        "  offset_end = offset_end + 1\n",
        "  prev_space_posn = (paragraph[:offset_start].rindex(' ')+1)\n",
        "  end_space_posn = (offset_end+paragraph[offset_end:].index(' '))\n",
        "  full_word = paragraph[prev_space_posn : end_space_posn]\n",
        "  return full_word\n",
        "\n",
        "train['full_word'] = train.apply(lambda x : full_word_extract(x), axis = 1)\n",
        "valid['full_word'] = valid.apply(lambda x : full_word_extract(x), axis = 1)"
      ],
      "metadata": {
        "id": "HOTnEKdu6CO-"
      },
      "execution_count": 25,
      "outputs": []
    },
    {
      "cell_type": "code",
      "source": [
        "X_train = train.apply(lambda x : bert_embedding_extract(x['context_text'], x['full_word']), axis = 1)\n",
        "X_valid = valid.apply(lambda x : bert_embedding_extract(x['context_text'], x['full_word']), axis = 1)"
      ],
      "metadata": {
        "id": "7LV4Vi_I7J8X"
      },
      "execution_count": 26,
      "outputs": []
    },
    {
      "cell_type": "code",
      "source": [
        "X_train_df = pd.DataFrame([i for i in X_train.values])\n",
        "X_train_df.head()"
      ],
      "metadata": {
        "colab": {
          "base_uri": "https://localhost:8080/",
          "height": 251
        },
        "id": "NCkyo-bE9-Ve",
        "outputId": "c9c7f3dd-31a3-43e4-88ce-2e85003751d0"
      },
      "execution_count": 33,
      "outputs": [
        {
          "output_type": "execute_result",
          "data": {
            "text/html": [
              "\n",
              "  <div id=\"df-4aee47d5-8ee0-44cf-a722-c053ca05737f\">\n",
              "    <div class=\"colab-df-container\">\n",
              "      <div>\n",
              "<style scoped>\n",
              "    .dataframe tbody tr th:only-of-type {\n",
              "        vertical-align: middle;\n",
              "    }\n",
              "\n",
              "    .dataframe tbody tr th {\n",
              "        vertical-align: top;\n",
              "    }\n",
              "\n",
              "    .dataframe thead th {\n",
              "        text-align: right;\n",
              "    }\n",
              "</style>\n",
              "<table border=\"1\" class=\"dataframe\">\n",
              "  <thead>\n",
              "    <tr style=\"text-align: right;\">\n",
              "      <th></th>\n",
              "      <th>0</th>\n",
              "      <th>1</th>\n",
              "      <th>2</th>\n",
              "      <th>3</th>\n",
              "      <th>4</th>\n",
              "      <th>5</th>\n",
              "      <th>6</th>\n",
              "      <th>7</th>\n",
              "      <th>8</th>\n",
              "      <th>9</th>\n",
              "      <th>10</th>\n",
              "      <th>11</th>\n",
              "      <th>12</th>\n",
              "      <th>13</th>\n",
              "      <th>14</th>\n",
              "      <th>15</th>\n",
              "      <th>16</th>\n",
              "      <th>17</th>\n",
              "      <th>18</th>\n",
              "      <th>19</th>\n",
              "      <th>20</th>\n",
              "      <th>21</th>\n",
              "      <th>22</th>\n",
              "      <th>23</th>\n",
              "      <th>24</th>\n",
              "      <th>25</th>\n",
              "      <th>26</th>\n",
              "      <th>27</th>\n",
              "      <th>28</th>\n",
              "      <th>29</th>\n",
              "      <th>30</th>\n",
              "      <th>31</th>\n",
              "      <th>32</th>\n",
              "      <th>33</th>\n",
              "      <th>34</th>\n",
              "      <th>35</th>\n",
              "      <th>36</th>\n",
              "      <th>37</th>\n",
              "      <th>38</th>\n",
              "      <th>39</th>\n",
              "      <th>...</th>\n",
              "      <th>728</th>\n",
              "      <th>729</th>\n",
              "      <th>730</th>\n",
              "      <th>731</th>\n",
              "      <th>732</th>\n",
              "      <th>733</th>\n",
              "      <th>734</th>\n",
              "      <th>735</th>\n",
              "      <th>736</th>\n",
              "      <th>737</th>\n",
              "      <th>738</th>\n",
              "      <th>739</th>\n",
              "      <th>740</th>\n",
              "      <th>741</th>\n",
              "      <th>742</th>\n",
              "      <th>743</th>\n",
              "      <th>744</th>\n",
              "      <th>745</th>\n",
              "      <th>746</th>\n",
              "      <th>747</th>\n",
              "      <th>748</th>\n",
              "      <th>749</th>\n",
              "      <th>750</th>\n",
              "      <th>751</th>\n",
              "      <th>752</th>\n",
              "      <th>753</th>\n",
              "      <th>754</th>\n",
              "      <th>755</th>\n",
              "      <th>756</th>\n",
              "      <th>757</th>\n",
              "      <th>758</th>\n",
              "      <th>759</th>\n",
              "      <th>760</th>\n",
              "      <th>761</th>\n",
              "      <th>762</th>\n",
              "      <th>763</th>\n",
              "      <th>764</th>\n",
              "      <th>765</th>\n",
              "      <th>766</th>\n",
              "      <th>767</th>\n",
              "    </tr>\n",
              "  </thead>\n",
              "  <tbody>\n",
              "    <tr>\n",
              "      <th>0</th>\n",
              "      <td>0.368809</td>\n",
              "      <td>-0.183757</td>\n",
              "      <td>0.303547</td>\n",
              "      <td>-0.117020</td>\n",
              "      <td>0.065140</td>\n",
              "      <td>-0.029341</td>\n",
              "      <td>0.259314</td>\n",
              "      <td>0.290747</td>\n",
              "      <td>0.207858</td>\n",
              "      <td>-0.115907</td>\n",
              "      <td>0.264833</td>\n",
              "      <td>-0.160152</td>\n",
              "      <td>-0.231906</td>\n",
              "      <td>0.164245</td>\n",
              "      <td>-0.113761</td>\n",
              "      <td>-0.344708</td>\n",
              "      <td>0.103797</td>\n",
              "      <td>0.059213</td>\n",
              "      <td>0.155677</td>\n",
              "      <td>0.010190</td>\n",
              "      <td>0.039880</td>\n",
              "      <td>-0.420344</td>\n",
              "      <td>0.347150</td>\n",
              "      <td>0.203805</td>\n",
              "      <td>0.180735</td>\n",
              "      <td>0.036988</td>\n",
              "      <td>-0.276550</td>\n",
              "      <td>-0.629351</td>\n",
              "      <td>0.042352</td>\n",
              "      <td>-0.038613</td>\n",
              "      <td>-0.032722</td>\n",
              "      <td>0.279078</td>\n",
              "      <td>-0.510508</td>\n",
              "      <td>-0.272058</td>\n",
              "      <td>0.483989</td>\n",
              "      <td>-0.135982</td>\n",
              "      <td>0.039079</td>\n",
              "      <td>0.011199</td>\n",
              "      <td>-0.382494</td>\n",
              "      <td>0.409543</td>\n",
              "      <td>...</td>\n",
              "      <td>0.150129</td>\n",
              "      <td>-0.332466</td>\n",
              "      <td>0.146949</td>\n",
              "      <td>0.298941</td>\n",
              "      <td>-0.356629</td>\n",
              "      <td>0.256043</td>\n",
              "      <td>-0.346404</td>\n",
              "      <td>0.276610</td>\n",
              "      <td>0.474828</td>\n",
              "      <td>-0.504323</td>\n",
              "      <td>-0.341784</td>\n",
              "      <td>0.158858</td>\n",
              "      <td>0.093696</td>\n",
              "      <td>-0.367811</td>\n",
              "      <td>-0.190270</td>\n",
              "      <td>-0.131648</td>\n",
              "      <td>0.111341</td>\n",
              "      <td>0.355276</td>\n",
              "      <td>-0.327872</td>\n",
              "      <td>-0.465141</td>\n",
              "      <td>0.127224</td>\n",
              "      <td>-0.085620</td>\n",
              "      <td>0.326738</td>\n",
              "      <td>0.000606</td>\n",
              "      <td>-1.168020</td>\n",
              "      <td>-0.267588</td>\n",
              "      <td>-0.059047</td>\n",
              "      <td>-0.278910</td>\n",
              "      <td>-0.204770</td>\n",
              "      <td>-0.569015</td>\n",
              "      <td>-0.151098</td>\n",
              "      <td>0.356569</td>\n",
              "      <td>-0.289968</td>\n",
              "      <td>-0.577219</td>\n",
              "      <td>0.060462</td>\n",
              "      <td>-0.476315</td>\n",
              "      <td>-0.305444</td>\n",
              "      <td>-0.269589</td>\n",
              "      <td>0.029032</td>\n",
              "      <td>-0.141106</td>\n",
              "    </tr>\n",
              "    <tr>\n",
              "      <th>1</th>\n",
              "      <td>-0.229693</td>\n",
              "      <td>-0.089069</td>\n",
              "      <td>0.277564</td>\n",
              "      <td>0.208404</td>\n",
              "      <td>0.275113</td>\n",
              "      <td>-0.161260</td>\n",
              "      <td>0.140657</td>\n",
              "      <td>0.239605</td>\n",
              "      <td>0.087076</td>\n",
              "      <td>-0.271928</td>\n",
              "      <td>0.060070</td>\n",
              "      <td>-0.613772</td>\n",
              "      <td>-0.113440</td>\n",
              "      <td>0.154220</td>\n",
              "      <td>-0.196730</td>\n",
              "      <td>0.122445</td>\n",
              "      <td>0.657043</td>\n",
              "      <td>0.011915</td>\n",
              "      <td>0.358510</td>\n",
              "      <td>-0.003775</td>\n",
              "      <td>0.052378</td>\n",
              "      <td>-0.209894</td>\n",
              "      <td>0.099908</td>\n",
              "      <td>0.063633</td>\n",
              "      <td>-0.006309</td>\n",
              "      <td>-0.513957</td>\n",
              "      <td>-0.377309</td>\n",
              "      <td>0.337079</td>\n",
              "      <td>-0.198215</td>\n",
              "      <td>-0.149513</td>\n",
              "      <td>0.252597</td>\n",
              "      <td>0.311857</td>\n",
              "      <td>-0.386991</td>\n",
              "      <td>-0.164911</td>\n",
              "      <td>0.401473</td>\n",
              "      <td>-0.286149</td>\n",
              "      <td>0.142062</td>\n",
              "      <td>-0.369986</td>\n",
              "      <td>0.112666</td>\n",
              "      <td>-0.098290</td>\n",
              "      <td>...</td>\n",
              "      <td>-0.140012</td>\n",
              "      <td>-0.376107</td>\n",
              "      <td>0.218393</td>\n",
              "      <td>0.304788</td>\n",
              "      <td>-0.131884</td>\n",
              "      <td>0.064087</td>\n",
              "      <td>0.018192</td>\n",
              "      <td>0.251127</td>\n",
              "      <td>0.320116</td>\n",
              "      <td>-0.460189</td>\n",
              "      <td>0.238322</td>\n",
              "      <td>0.195535</td>\n",
              "      <td>-0.076593</td>\n",
              "      <td>-0.090142</td>\n",
              "      <td>0.074114</td>\n",
              "      <td>-0.321207</td>\n",
              "      <td>-0.535894</td>\n",
              "      <td>0.218806</td>\n",
              "      <td>0.062582</td>\n",
              "      <td>-0.059976</td>\n",
              "      <td>-0.154634</td>\n",
              "      <td>-0.327682</td>\n",
              "      <td>0.435243</td>\n",
              "      <td>0.334271</td>\n",
              "      <td>-0.593300</td>\n",
              "      <td>-0.369575</td>\n",
              "      <td>-0.465317</td>\n",
              "      <td>-0.305976</td>\n",
              "      <td>-0.351953</td>\n",
              "      <td>0.085012</td>\n",
              "      <td>0.161071</td>\n",
              "      <td>-0.098725</td>\n",
              "      <td>-0.099021</td>\n",
              "      <td>-0.451767</td>\n",
              "      <td>0.161913</td>\n",
              "      <td>-0.360084</td>\n",
              "      <td>-0.131953</td>\n",
              "      <td>0.311590</td>\n",
              "      <td>-0.003990</td>\n",
              "      <td>-0.047092</td>\n",
              "    </tr>\n",
              "    <tr>\n",
              "      <th>2</th>\n",
              "      <td>-0.312533</td>\n",
              "      <td>0.074236</td>\n",
              "      <td>0.340413</td>\n",
              "      <td>0.059623</td>\n",
              "      <td>0.269301</td>\n",
              "      <td>-0.430308</td>\n",
              "      <td>-0.018170</td>\n",
              "      <td>-0.077967</td>\n",
              "      <td>-0.054411</td>\n",
              "      <td>-0.024177</td>\n",
              "      <td>-0.086897</td>\n",
              "      <td>-0.399377</td>\n",
              "      <td>-0.172927</td>\n",
              "      <td>0.264951</td>\n",
              "      <td>-0.136291</td>\n",
              "      <td>-0.111428</td>\n",
              "      <td>0.279131</td>\n",
              "      <td>-0.062598</td>\n",
              "      <td>0.124166</td>\n",
              "      <td>-0.025297</td>\n",
              "      <td>0.142324</td>\n",
              "      <td>-0.318341</td>\n",
              "      <td>-0.009125</td>\n",
              "      <td>0.314666</td>\n",
              "      <td>0.186952</td>\n",
              "      <td>-0.195127</td>\n",
              "      <td>-0.259486</td>\n",
              "      <td>0.265007</td>\n",
              "      <td>-0.333785</td>\n",
              "      <td>-0.186305</td>\n",
              "      <td>0.335625</td>\n",
              "      <td>0.365368</td>\n",
              "      <td>-0.413940</td>\n",
              "      <td>-0.105751</td>\n",
              "      <td>0.368936</td>\n",
              "      <td>-0.234994</td>\n",
              "      <td>-0.061504</td>\n",
              "      <td>-0.369206</td>\n",
              "      <td>0.043243</td>\n",
              "      <td>-0.019501</td>\n",
              "      <td>...</td>\n",
              "      <td>-0.038770</td>\n",
              "      <td>-0.293589</td>\n",
              "      <td>0.059653</td>\n",
              "      <td>0.063383</td>\n",
              "      <td>-0.197656</td>\n",
              "      <td>0.295203</td>\n",
              "      <td>0.118613</td>\n",
              "      <td>0.369562</td>\n",
              "      <td>0.195081</td>\n",
              "      <td>-0.124045</td>\n",
              "      <td>0.556299</td>\n",
              "      <td>0.220525</td>\n",
              "      <td>0.036612</td>\n",
              "      <td>0.026550</td>\n",
              "      <td>0.213589</td>\n",
              "      <td>-0.629621</td>\n",
              "      <td>-0.506624</td>\n",
              "      <td>0.353618</td>\n",
              "      <td>-0.273439</td>\n",
              "      <td>-0.008737</td>\n",
              "      <td>-0.052315</td>\n",
              "      <td>-0.367065</td>\n",
              "      <td>0.366430</td>\n",
              "      <td>0.240781</td>\n",
              "      <td>-1.072272</td>\n",
              "      <td>-0.327259</td>\n",
              "      <td>-0.432634</td>\n",
              "      <td>-0.227883</td>\n",
              "      <td>-0.173199</td>\n",
              "      <td>-0.131844</td>\n",
              "      <td>0.364682</td>\n",
              "      <td>0.049291</td>\n",
              "      <td>-0.352903</td>\n",
              "      <td>-0.506028</td>\n",
              "      <td>-0.062770</td>\n",
              "      <td>-0.400013</td>\n",
              "      <td>0.027792</td>\n",
              "      <td>0.178910</td>\n",
              "      <td>-0.014725</td>\n",
              "      <td>-0.112120</td>\n",
              "    </tr>\n",
              "    <tr>\n",
              "      <th>3</th>\n",
              "      <td>-0.077108</td>\n",
              "      <td>-0.161483</td>\n",
              "      <td>0.312860</td>\n",
              "      <td>0.393249</td>\n",
              "      <td>-0.241845</td>\n",
              "      <td>-0.155996</td>\n",
              "      <td>0.190089</td>\n",
              "      <td>0.012113</td>\n",
              "      <td>-0.139313</td>\n",
              "      <td>-0.067047</td>\n",
              "      <td>-0.187884</td>\n",
              "      <td>-0.279766</td>\n",
              "      <td>0.068685</td>\n",
              "      <td>0.652245</td>\n",
              "      <td>0.034435</td>\n",
              "      <td>0.201013</td>\n",
              "      <td>0.196322</td>\n",
              "      <td>-0.138563</td>\n",
              "      <td>-0.108405</td>\n",
              "      <td>0.030554</td>\n",
              "      <td>-0.442437</td>\n",
              "      <td>-0.424446</td>\n",
              "      <td>0.225827</td>\n",
              "      <td>0.234261</td>\n",
              "      <td>0.558610</td>\n",
              "      <td>0.172792</td>\n",
              "      <td>-0.155304</td>\n",
              "      <td>-0.380085</td>\n",
              "      <td>-0.380848</td>\n",
              "      <td>-0.048957</td>\n",
              "      <td>0.250248</td>\n",
              "      <td>0.077043</td>\n",
              "      <td>-0.271357</td>\n",
              "      <td>0.021427</td>\n",
              "      <td>0.353510</td>\n",
              "      <td>-0.013620</td>\n",
              "      <td>-0.089485</td>\n",
              "      <td>-0.349548</td>\n",
              "      <td>-0.306434</td>\n",
              "      <td>-0.152709</td>\n",
              "      <td>...</td>\n",
              "      <td>-0.213981</td>\n",
              "      <td>-0.265999</td>\n",
              "      <td>-0.095840</td>\n",
              "      <td>-0.101439</td>\n",
              "      <td>-0.517161</td>\n",
              "      <td>-0.237204</td>\n",
              "      <td>-0.166519</td>\n",
              "      <td>0.128982</td>\n",
              "      <td>-0.059171</td>\n",
              "      <td>-0.128331</td>\n",
              "      <td>-0.268504</td>\n",
              "      <td>0.000980</td>\n",
              "      <td>0.172639</td>\n",
              "      <td>-0.039273</td>\n",
              "      <td>-0.138985</td>\n",
              "      <td>0.109200</td>\n",
              "      <td>-0.653843</td>\n",
              "      <td>-0.223973</td>\n",
              "      <td>-0.307335</td>\n",
              "      <td>0.033183</td>\n",
              "      <td>-0.250163</td>\n",
              "      <td>-0.113612</td>\n",
              "      <td>0.296702</td>\n",
              "      <td>-0.303115</td>\n",
              "      <td>-0.867403</td>\n",
              "      <td>-0.334606</td>\n",
              "      <td>-0.114193</td>\n",
              "      <td>-0.399088</td>\n",
              "      <td>0.285001</td>\n",
              "      <td>-0.124496</td>\n",
              "      <td>0.096827</td>\n",
              "      <td>0.510738</td>\n",
              "      <td>0.158721</td>\n",
              "      <td>-0.261529</td>\n",
              "      <td>0.392189</td>\n",
              "      <td>-0.147268</td>\n",
              "      <td>-0.073741</td>\n",
              "      <td>-0.110605</td>\n",
              "      <td>0.315011</td>\n",
              "      <td>0.099651</td>\n",
              "    </tr>\n",
              "    <tr>\n",
              "      <th>4</th>\n",
              "      <td>-0.063771</td>\n",
              "      <td>-0.050664</td>\n",
              "      <td>0.679189</td>\n",
              "      <td>-0.028069</td>\n",
              "      <td>-0.108447</td>\n",
              "      <td>-0.218079</td>\n",
              "      <td>0.338436</td>\n",
              "      <td>0.445809</td>\n",
              "      <td>-0.050631</td>\n",
              "      <td>-0.194607</td>\n",
              "      <td>-0.034786</td>\n",
              "      <td>0.094162</td>\n",
              "      <td>0.287489</td>\n",
              "      <td>0.418246</td>\n",
              "      <td>0.126156</td>\n",
              "      <td>-0.168809</td>\n",
              "      <td>-0.104691</td>\n",
              "      <td>-0.216247</td>\n",
              "      <td>-0.020723</td>\n",
              "      <td>-0.199600</td>\n",
              "      <td>0.034056</td>\n",
              "      <td>-0.365783</td>\n",
              "      <td>0.255971</td>\n",
              "      <td>0.269185</td>\n",
              "      <td>0.627106</td>\n",
              "      <td>-0.061137</td>\n",
              "      <td>-0.015113</td>\n",
              "      <td>-0.013866</td>\n",
              "      <td>-0.011102</td>\n",
              "      <td>-0.078374</td>\n",
              "      <td>0.079824</td>\n",
              "      <td>0.055255</td>\n",
              "      <td>-0.491643</td>\n",
              "      <td>-0.309602</td>\n",
              "      <td>0.432001</td>\n",
              "      <td>-0.096631</td>\n",
              "      <td>-0.125716</td>\n",
              "      <td>0.054423</td>\n",
              "      <td>-0.386304</td>\n",
              "      <td>-0.113567</td>\n",
              "      <td>...</td>\n",
              "      <td>-0.154981</td>\n",
              "      <td>-0.515644</td>\n",
              "      <td>0.231666</td>\n",
              "      <td>0.034381</td>\n",
              "      <td>-0.497508</td>\n",
              "      <td>-0.145881</td>\n",
              "      <td>0.136370</td>\n",
              "      <td>0.248001</td>\n",
              "      <td>0.540396</td>\n",
              "      <td>-0.114630</td>\n",
              "      <td>0.090680</td>\n",
              "      <td>-0.136256</td>\n",
              "      <td>0.055671</td>\n",
              "      <td>0.164463</td>\n",
              "      <td>0.173252</td>\n",
              "      <td>-0.164186</td>\n",
              "      <td>-0.246136</td>\n",
              "      <td>-0.144400</td>\n",
              "      <td>-0.610616</td>\n",
              "      <td>-0.029822</td>\n",
              "      <td>0.003193</td>\n",
              "      <td>0.102735</td>\n",
              "      <td>-0.091496</td>\n",
              "      <td>-0.453307</td>\n",
              "      <td>-1.514500</td>\n",
              "      <td>-0.336089</td>\n",
              "      <td>-0.158246</td>\n",
              "      <td>-0.463973</td>\n",
              "      <td>-0.264564</td>\n",
              "      <td>0.159924</td>\n",
              "      <td>0.389236</td>\n",
              "      <td>0.325973</td>\n",
              "      <td>0.204010</td>\n",
              "      <td>-0.464381</td>\n",
              "      <td>0.705045</td>\n",
              "      <td>0.125383</td>\n",
              "      <td>-0.202484</td>\n",
              "      <td>-0.364667</td>\n",
              "      <td>0.242617</td>\n",
              "      <td>-0.194775</td>\n",
              "    </tr>\n",
              "  </tbody>\n",
              "</table>\n",
              "<p>5 rows × 768 columns</p>\n",
              "</div>\n",
              "      <button class=\"colab-df-convert\" onclick=\"convertToInteractive('df-4aee47d5-8ee0-44cf-a722-c053ca05737f')\"\n",
              "              title=\"Convert this dataframe to an interactive table.\"\n",
              "              style=\"display:none;\">\n",
              "        \n",
              "  <svg xmlns=\"http://www.w3.org/2000/svg\" height=\"24px\"viewBox=\"0 0 24 24\"\n",
              "       width=\"24px\">\n",
              "    <path d=\"M0 0h24v24H0V0z\" fill=\"none\"/>\n",
              "    <path d=\"M18.56 5.44l.94 2.06.94-2.06 2.06-.94-2.06-.94-.94-2.06-.94 2.06-2.06.94zm-11 1L8.5 8.5l.94-2.06 2.06-.94-2.06-.94L8.5 2.5l-.94 2.06-2.06.94zm10 10l.94 2.06.94-2.06 2.06-.94-2.06-.94-.94-2.06-.94 2.06-2.06.94z\"/><path d=\"M17.41 7.96l-1.37-1.37c-.4-.4-.92-.59-1.43-.59-.52 0-1.04.2-1.43.59L10.3 9.45l-7.72 7.72c-.78.78-.78 2.05 0 2.83L4 21.41c.39.39.9.59 1.41.59.51 0 1.02-.2 1.41-.59l7.78-7.78 2.81-2.81c.8-.78.8-2.07 0-2.86zM5.41 20L4 18.59l7.72-7.72 1.47 1.35L5.41 20z\"/>\n",
              "  </svg>\n",
              "      </button>\n",
              "      \n",
              "  <style>\n",
              "    .colab-df-container {\n",
              "      display:flex;\n",
              "      flex-wrap:wrap;\n",
              "      gap: 12px;\n",
              "    }\n",
              "\n",
              "    .colab-df-convert {\n",
              "      background-color: #E8F0FE;\n",
              "      border: none;\n",
              "      border-radius: 50%;\n",
              "      cursor: pointer;\n",
              "      display: none;\n",
              "      fill: #1967D2;\n",
              "      height: 32px;\n",
              "      padding: 0 0 0 0;\n",
              "      width: 32px;\n",
              "    }\n",
              "\n",
              "    .colab-df-convert:hover {\n",
              "      background-color: #E2EBFA;\n",
              "      box-shadow: 0px 1px 2px rgba(60, 64, 67, 0.3), 0px 1px 3px 1px rgba(60, 64, 67, 0.15);\n",
              "      fill: #174EA6;\n",
              "    }\n",
              "\n",
              "    [theme=dark] .colab-df-convert {\n",
              "      background-color: #3B4455;\n",
              "      fill: #D2E3FC;\n",
              "    }\n",
              "\n",
              "    [theme=dark] .colab-df-convert:hover {\n",
              "      background-color: #434B5C;\n",
              "      box-shadow: 0px 1px 3px 1px rgba(0, 0, 0, 0.15);\n",
              "      filter: drop-shadow(0px 1px 2px rgba(0, 0, 0, 0.3));\n",
              "      fill: #FFFFFF;\n",
              "    }\n",
              "  </style>\n",
              "\n",
              "      <script>\n",
              "        const buttonEl =\n",
              "          document.querySelector('#df-4aee47d5-8ee0-44cf-a722-c053ca05737f button.colab-df-convert');\n",
              "        buttonEl.style.display =\n",
              "          google.colab.kernel.accessAllowed ? 'block' : 'none';\n",
              "\n",
              "        async function convertToInteractive(key) {\n",
              "          const element = document.querySelector('#df-4aee47d5-8ee0-44cf-a722-c053ca05737f');\n",
              "          const dataTable =\n",
              "            await google.colab.kernel.invokeFunction('convertToInteractive',\n",
              "                                                     [key], {});\n",
              "          if (!dataTable) return;\n",
              "\n",
              "          const docLinkHtml = 'Like what you see? Visit the ' +\n",
              "            '<a target=\"_blank\" href=https://colab.research.google.com/notebooks/data_table.ipynb>data table notebook</a>'\n",
              "            + ' to learn more about interactive tables.';\n",
              "          element.innerHTML = '';\n",
              "          dataTable['output_type'] = 'display_data';\n",
              "          await google.colab.output.renderOutput(dataTable, element);\n",
              "          const docLink = document.createElement('div');\n",
              "          docLink.innerHTML = docLinkHtml;\n",
              "          element.appendChild(docLink);\n",
              "        }\n",
              "      </script>\n",
              "    </div>\n",
              "  </div>\n",
              "  "
            ],
            "text/plain": [
              "        0         1         2    ...       765       766       767\n",
              "0  0.368809 -0.183757  0.303547  ... -0.269589  0.029032 -0.141106\n",
              "1 -0.229693 -0.089069  0.277564  ...  0.311590 -0.003990 -0.047092\n",
              "2 -0.312533  0.074236  0.340413  ...  0.178910 -0.014725 -0.112120\n",
              "3 -0.077108 -0.161483  0.312860  ... -0.110605  0.315011  0.099651\n",
              "4 -0.063771 -0.050664  0.679189  ... -0.364667  0.242617 -0.194775\n",
              "\n",
              "[5 rows x 768 columns]"
            ]
          },
          "metadata": {},
          "execution_count": 33
        },
        {
          "output_type": "stream",
          "name": "stdout",
          "text": [
            "Warning: Total number of columns (768) exceeds max_columns (20) limiting to first (20) columns.\n"
          ]
        }
      ]
    },
    {
      "cell_type": "code",
      "source": [
        "X_train_df.to_csv('X_train_df.csv', index = False)"
      ],
      "metadata": {
        "id": "sZ3hh7pZM8Uy"
      },
      "execution_count": 34,
      "outputs": []
    },
    {
      "cell_type": "code",
      "source": [
        "X_valid_df = pd.DataFrame([i for i in X_valid.values])\n",
        "X_valid_df.to_csv('X_valid_df.csv', index = False)"
      ],
      "metadata": {
        "id": "T9W1kbkmNqKn"
      },
      "execution_count": 35,
      "outputs": []
    },
    {
      "cell_type": "code",
      "source": [
        "Y_train = train[['claim']]\n",
        "Y_valid = valid[['claim']]"
      ],
      "metadata": {
        "id": "7ek7hPLDOcLA"
      },
      "execution_count": 36,
      "outputs": []
    },
    {
      "cell_type": "code",
      "source": [
        "Y_train.to_csv('Y_train.csv', index = False)\n",
        "Y_valid.to_csv('Y_valid.csv', index = False)"
      ],
      "metadata": {
        "id": "hk8DyPCqPEmc"
      },
      "execution_count": 37,
      "outputs": []
    },
    {
      "cell_type": "markdown",
      "source": [
        "# Data Loading"
      ],
      "metadata": {
        "id": "lKiJLSA7Pbbm"
      }
    },
    {
      "cell_type": "code",
      "source": [
        "X_train_df = pd.read_csv('X_train_df.csv') #Extract X_train_df.zip first\n",
        "Y_train = pd.read_csv('Y_train.csv')\n",
        "X_valid_df = pd.read_csv('X_valid_df.csv')\n",
        "Y_valid = pd.read_csv('Y_valid.csv')"
      ],
      "metadata": {
        "id": "22y5tEeoP-CH"
      },
      "execution_count": null,
      "outputs": []
    },
    {
      "cell_type": "markdown",
      "source": [
        "# Model Development"
      ],
      "metadata": {
        "id": "NzYb7gQfQj3b"
      }
    },
    {
      "cell_type": "code",
      "source": [
        "lr_clf = LogisticRegression(solver='lbfgs')\n",
        "lr_clf.fit(X_train_df, Y_train)"
      ],
      "metadata": {
        "id": "DQ4j8xOXRA5a"
      },
      "execution_count": null,
      "outputs": []
    },
    {
      "cell_type": "code",
      "source": [
        "pred_train = lr_clf.predict(X_train_df)\n",
        "pred_valid = lr_clf.predict(X_valid_df)"
      ],
      "metadata": {
        "id": "OLbWrFn_RaxI"
      },
      "execution_count": 41,
      "outputs": []
    },
    {
      "cell_type": "code",
      "source": [
        "#Training F1 score (micro)\n",
        "f1_score(Y_train, pred_train, average='micro')"
      ],
      "metadata": {
        "colab": {
          "base_uri": "https://localhost:8080/"
        },
        "id": "D1Uj9vGiRrRA",
        "outputId": "77ba3e6d-fd42-47fe-b5df-96778c2f1baf"
      },
      "execution_count": 42,
      "outputs": [
        {
          "output_type": "execute_result",
          "data": {
            "text/plain": [
              "0.9697732997481109"
            ]
          },
          "metadata": {},
          "execution_count": 42
        }
      ]
    },
    {
      "cell_type": "code",
      "source": [
        "#Training F1 score (macro)\n",
        "f1_score(Y_train, pred_train, average='macro')"
      ],
      "metadata": {
        "colab": {
          "base_uri": "https://localhost:8080/"
        },
        "id": "KHjEiKb3R7zL",
        "outputId": "5aa55adf-492c-4e51-ec4e-130dfddf8725"
      },
      "execution_count": 43,
      "outputs": [
        {
          "output_type": "execute_result",
          "data": {
            "text/plain": [
              "0.9282894717080981"
            ]
          },
          "metadata": {},
          "execution_count": 43
        }
      ]
    },
    {
      "cell_type": "code",
      "source": [
        "#Validation F1 score (micro)\n",
        "f1_score(Y_valid, pred_valid, average='micro')"
      ],
      "metadata": {
        "colab": {
          "base_uri": "https://localhost:8080/"
        },
        "id": "cFaMh8IKR-1p",
        "outputId": "5616b6bb-0aea-4654-8b14-3f987898c13c"
      },
      "execution_count": 44,
      "outputs": [
        {
          "output_type": "execute_result",
          "data": {
            "text/plain": [
              "0.929471032745592"
            ]
          },
          "metadata": {},
          "execution_count": 44
        }
      ]
    },
    {
      "cell_type": "code",
      "source": [
        "#Validation F1 score (macro)\n",
        "f1_score(Y_valid, pred_valid, average='macro')"
      ],
      "metadata": {
        "colab": {
          "base_uri": "https://localhost:8080/"
        },
        "id": "6SPpNs8KSJ-_",
        "outputId": "a2eb8f07-6009-4618-8ed8-8c1a57461e66"
      },
      "execution_count": 45,
      "outputs": [
        {
          "output_type": "execute_result",
          "data": {
            "text/plain": [
              "0.8222564918913541"
            ]
          },
          "metadata": {},
          "execution_count": 45
        }
      ]
    },
    {
      "cell_type": "code",
      "source": [
        "pickle.dump(lr_clf, open(\"lr_clf_FiNCAT.pickle\", \"wb\"))"
      ],
      "metadata": {
        "id": "IyqZmqfUSSWG"
      },
      "execution_count": 47,
      "outputs": []
    },
    {
      "cell_type": "code",
      "source": [
        ""
      ],
      "metadata": {
        "id": "JBEz2_IWSvTg"
      },
      "execution_count": null,
      "outputs": []
    }
  ]
}