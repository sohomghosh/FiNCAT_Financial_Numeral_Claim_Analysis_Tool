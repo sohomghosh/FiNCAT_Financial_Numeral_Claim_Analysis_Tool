{
  "nbformat": 4,
  "nbformat_minor": 0,
  "metadata": {
    "colab": {
      "name": "FiNCAT_tool.ipynb",
      "provenance": [],
      "collapsed_sections": []
    },
    "kernelspec": {
      "name": "python3",
      "display_name": "Python 3"
    },
    "language_info": {
      "name": "python"
    }
  },
  "cells": [
    {
      "cell_type": "code",
      "source": [
        "#@title\n",
        "\n",
        "%%capture\n",
        "!pip install transformers\n",
        "!pip install gradio\n",
        "import gradio as gr\n",
        "import nltk\n",
        "nltk.download('punkt')\n",
        "from tabulate import tabulate\n",
        "tabulate.PRESERVE_WHITESPACE = True\n",
        "from fincat_utils import extract_context_words\n",
        "from fincat_utils import bert_embedding_extract\n",
        "import pickle\n",
        "lr_clf = pickle.load(open(\"lr_clf_FiNCAT.pickle\",'rb'))"
      ],
      "metadata": {
        "id": "bVz3z3opTv7a",
        "cellView": "form"
      },
      "execution_count": 1,
      "outputs": []
    },
    {
      "cell_type": "code",
      "source": [
        "#@title\n",
        "#txt = 'In the year 2021 the markets were bullish. We expect to boost our sales by 80% this quarter.'\n",
        "def score_fincat(txt):\n",
        "  li = []\n",
        "  for word in txt.split():\n",
        "    if any(char.isdigit() for char in word):\n",
        "      st = txt.index(word)\n",
        "      ed = st + len(word)\n",
        "      x = {'paragraph' : txt, 'offset_start':st, 'offset_end':ed}\n",
        "      context_text = extract_context_words(x)\n",
        "      features = bert_embedding_extract(context_text, word)\n",
        "      prediction = lr_clf.predict(features.reshape(1, 768))\n",
        "      prediction_probability = '{:.4f}'.format(round(lr_clf.predict_proba(features.reshape(1, 768))[:,1][0], 4))\n",
        "      \n",
        "      li.append([word,'    In-claim' if prediction==1 else 'Out-of-Claim', prediction_probability])\n",
        "  headers = ['numeral', 'prediction', 'probability']\n",
        "  return tabulate(li, headers, tablefmt=\"plain\", floatfmt=\".4f\")\n",
        "\n",
        "iface = gr.Interface(fn=score_fincat, inputs=\"textbox\", title=\"FiNCAT\",description=\"Financial Numeral Claim Analysis Tool\", outputs=\"textbox\", allow_flagging=\"never\")\n",
        "iface.launch()"
      ],
      "metadata": {
        "colab": {
          "base_uri": "https://localhost:8080/",
          "height": 651
        },
        "id": "56cpKoXzPukM",
        "outputId": "7f95b45b-046e-495e-b27f-02fe907f5819",
        "cellView": "form"
      },
      "execution_count": 2,
      "outputs": [
        {
          "output_type": "stream",
          "name": "stdout",
          "text": [
            "Colab notebook detected. To show errors in colab notebook, set `debug=True` in `launch()`\n",
            "Running on public URL: https://59019.gradio.app\n",
            "\n",
            "This share link expires in 72 hours. For free permanent hosting, check out Spaces (https://huggingface.co/spaces)\n"
          ]
        },
        {
          "output_type": "display_data",
          "data": {
            "text/html": [
              "\n",
              "        <iframe\n",
              "            width=\"900\"\n",
              "            height=\"500\"\n",
              "            src=\"https://59019.gradio.app\"\n",
              "            frameborder=\"0\"\n",
              "            allowfullscreen\n",
              "        ></iframe>\n",
              "        "
            ],
            "text/plain": [
              "<IPython.lib.display.IFrame at 0x7fe313b309d0>"
            ]
          },
          "metadata": {}
        },
        {
          "output_type": "execute_result",
          "data": {
            "text/plain": [
              "(<fastapi.applications.FastAPI at 0x7fe42680aa10>,\n",
              " 'http://127.0.0.1:7860/',\n",
              " 'https://59019.gradio.app')"
            ]
          },
          "metadata": {},
          "execution_count": 2
        }
      ]
    }
  ]
}