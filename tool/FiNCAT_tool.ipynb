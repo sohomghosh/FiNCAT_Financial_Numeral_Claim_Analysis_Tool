{
  "nbformat": 4,
  "nbformat_minor": 0,
  "metadata": {
    "colab": {
      "name": "FiNCAT_tool.ipynb",
      "provenance": []
    },
    "kernelspec": {
      "name": "python3",
      "display_name": "Python 3"
    },
    "language_info": {
      "name": "python"
    }
  },
  "cells": [
    {
      "cell_type": "code",
      "source": [
        "#@title\n",
        "!pip install transformers\n",
        "import nltk\n",
        "nltk.download('punkt')\n",
        "from fincat_utils import extract_context_words\n",
        "from fincat_utils import bert_embedding_extract\n",
        "import pickle\n",
        "lr_clf = pickle.load(open(\"lr_clf_FiNCAT.pickle\",'rb'))"
      ],
      "metadata": {
        "cellView": "form",
        "id": "bVz3z3opTv7a"
      },
      "execution_count": null,
      "outputs": []
    },
    {
      "cell_type": "code",
      "execution_count": 10,
      "metadata": {
        "colab": {
          "base_uri": "https://localhost:8080/"
        },
        "cellView": "form",
        "id": "HSy9y1qZTWJn",
        "outputId": "7e96ce91-7a2a-423d-ceb1-bb54fcf70679"
      },
      "outputs": [
        {
          "output_type": "stream",
          "name": "stdout",
          "text": [
            "Q80% In-claim\n",
            "2020 Out-of-Claim\n"
          ]
        }
      ],
      "source": [
        "#@title\n",
        "#txt = 'This year the market is doing well. The sales will grow by Q80% in the year 2020'\n",
        "\n",
        "txt = \"This year the market is doing well. The sales will grow by Q80% in the year 2020\" #@param {type:\"string\"}\n",
        "for word in txt.split():\n",
        "  if any(char.isdigit() for char in word):\n",
        "    st = txt.index(word)\n",
        "    ed = st + len(word)\n",
        "    x = {'paragraph' : txt, 'offset_start':st, 'offset_end':ed}\n",
        "    context_text = extract_context_words(x)\n",
        "    features = bert_embedding_extract(context_text, word)\n",
        "    prediction = lr_clf.predict(features.reshape(1, 768))\n",
        "    print(word, 'In-claim' if prediction==1 else 'Out-of-Claim')"
      ]
    }
  ]
}