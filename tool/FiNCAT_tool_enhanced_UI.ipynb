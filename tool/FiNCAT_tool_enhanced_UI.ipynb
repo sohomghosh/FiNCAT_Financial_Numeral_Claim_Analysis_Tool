{
  "nbformat": 4,
  "nbformat_minor": 0,
  "metadata": {
    "colab": {
      "name": "FiNCAT-tool_enhanced_UI.ipynb",
      "provenance": [],
      "collapsed_sections": [],
      "authorship_tag": "ABX9TyO/654Wo1Tfx1gKHOrcU76A",
      "include_colab_link": true
    },
    "kernelspec": {
      "name": "python3",
      "display_name": "Python 3"
    },
    "language_info": {
      "name": "python"
    }
  },
  "cells": [
    {
      "cell_type": "markdown",
      "metadata": {
        "id": "view-in-github",
        "colab_type": "text"
      },
      "source": [
        "<a href=\"https://colab.research.google.com/github/sohomghosh/FiNCAT_Financial_Numeral_Claim_Analysis_Tool/blob/main/tool/FiNCAT_tool_enhanced_UI.ipynb\" target=\"_parent\"><img src=\"https://colab.research.google.com/assets/colab-badge.svg\" alt=\"Open In Colab\"/></a>"
      ]
    },
    {
      "cell_type": "code",
      "source": [
        "#@title\n",
        "\n",
        "%%capture\n",
        "!wget https://raw.githubusercontent.com/sohomghosh/FiNCAT_Financial_Numeral_Claim_Analysis_Tool/main/fincat_utils.py\n",
        "!wget https://raw.githubusercontent.com/sohomghosh/FiNCAT_Financial_Numeral_Claim_Analysis_Tool/main/tool/lr_clf_FiNCAT.pickle\n",
        "!pip install transformers\n",
        "!pip install gradio\n",
        "import gradio as gr\n",
        "import nltk\n",
        "import pandas as pd\n",
        "nltk.download('punkt')\n",
        "from fincat_utils import extract_context_words\n",
        "from fincat_utils import bert_embedding_extract\n",
        "import pickle\n",
        "lr_clf = pickle.load(open(\"lr_clf_FiNCAT.pickle\",'rb'))"
      ],
      "metadata": {
        "id": "bVz3z3opTv7a",
        "cellView": "form"
      },
      "execution_count": 6,
      "outputs": []
    },
    {
      "cell_type": "code",
      "source": [
        "#@title\n",
        "#txt = 'In the year 2021 the markets were bullish. We expect to boost our sales by 80% this quarter.'\n",
        "def score_fincat(txt):\n",
        "  li = []\n",
        "  highlight = []\n",
        "  for word in txt.split():\n",
        "    if any(char.isdigit() for char in word):\n",
        "      if word[-1] in ['.', ',', ';', \":\", \"-\", \"!\", \"?\", \")\", '\"', \"'\"]:\n",
        "        word = word[:-1]\n",
        "      st = txt.index(word)\n",
        "      ed = st + len(word)\n",
        "      x = {'paragraph' : txt, 'offset_start':st, 'offset_end':ed}\n",
        "      context_text = extract_context_words(x)\n",
        "      features = bert_embedding_extract(context_text, word)\n",
        "      prediction = lr_clf.predict(features.reshape(1, 768))\n",
        "      prediction_probability = '{:.4f}'.format(round(lr_clf.predict_proba(features.reshape(1, 768))[:,1][0], 4))\n",
        "      highlight.append((word, '    In-claim' if prediction==1 else 'Out-of-Claim'))\n",
        "      li.append([word,'    In-claim' if prediction==1 else 'Out-of-Claim', prediction_probability])\n",
        "    else:\n",
        "      highlight.append((word, '    '))\n",
        "  headers = ['numeral', 'prediction', 'probability']\n",
        "  dff = pd.DataFrame(li)\n",
        "  dff.columns = headers\n",
        "  \n",
        "  return highlight, dff\n",
        "\n",
        "iface = gr.Interface(fn=score_fincat, inputs=gr.inputs.Textbox(lines=5, placeholder=\"Enter Financial Text here...\"), title=\"FiNCAT-2\",description=\"Financial Numeral Claim Analysis Tool (Enhanced)\", outputs=[\"highlight\", \"dataframe\"], allow_flagging=\"never\", examples=[\"In the year 2021, the markets were bullish. We expect to boost our sales by 80% this year.\", \"Last year our profit was $2.2M. This year it will increase to $3M\"])\n",
        "iface.launch()\n",
        "\n",
        "\n",
        "\n"
      ],
      "metadata": {
        "cellView": "form",
        "id": "dzv-qlFpuqmJ",
        "colab": {
          "base_uri": "https://localhost:8080/",
          "height": 651
        },
        "outputId": "ce933792-9b8a-4748-e11b-c9dba95f4c71"
      },
      "execution_count": 7,
      "outputs": [
        {
          "output_type": "stream",
          "name": "stdout",
          "text": [
            "Colab notebook detected. To show errors in colab notebook, set `debug=True` in `launch()`\n",
            "Running on public URL: https://17160.gradio.app\n",
            "\n",
            "This share link expires in 72 hours. For free permanent hosting, check out Spaces (https://huggingface.co/spaces)\n"
          ]
        },
        {
          "output_type": "display_data",
          "data": {
            "text/html": [
              "\n",
              "        <iframe\n",
              "            width=\"900\"\n",
              "            height=\"500\"\n",
              "            src=\"https://17160.gradio.app\"\n",
              "            frameborder=\"0\"\n",
              "            allowfullscreen\n",
              "        ></iframe>\n",
              "        "
            ],
            "text/plain": [
              "<IPython.lib.display.IFrame at 0x7f43282723d0>"
            ]
          },
          "metadata": {}
        },
        {
          "output_type": "execute_result",
          "data": {
            "text/plain": [
              "(<fastapi.applications.FastAPI at 0x7f443d673310>,\n",
              " 'http://127.0.0.1:7860/',\n",
              " 'https://17160.gradio.app')"
            ]
          },
          "metadata": {},
          "execution_count": 7
        }
      ]
    }
  ]
}